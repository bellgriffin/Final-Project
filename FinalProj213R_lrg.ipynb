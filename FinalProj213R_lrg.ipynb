{
 "cells": [
  {
   "cell_type": "code",
   "execution_count": 1,
   "metadata": {},
   "outputs": [],
   "source": [
    "import pandas as pd\n",
    "import matplotlib.pyplot as plt\n",
    "import numpy as np\n",
    "%matplotlib inline\n",
    "import seaborn as sns\n",
    "from sklearn.linear_model import SGDRegressor\n",
    "from sklearn.metrics import mean_squared_error\n",
    "from sklearn.preprocessing import StandardScaler\n",
    "from sklearn.model_selection import GridSearchCV, train_test_split\n",
    "from sklearn.decomposition import PCA"
   ]
  },
  {
   "cell_type": "code",
   "execution_count": 2,
   "metadata": {},
   "outputs": [],
   "source": [
    "train = pd.read_csv('ProjData.csv')"
   ]
  },
  {
   "cell_type": "code",
   "execution_count": 3,
   "metadata": {},
   "outputs": [],
   "source": [
    "train = train.fillna(train.median())"
   ]
  },
  {
   "cell_type": "code",
   "execution_count": 4,
   "metadata": {},
   "outputs": [
    {
     "name": "stderr",
     "output_type": "stream",
     "text": [
      "/Library/Frameworks/Python.framework/Versions/3.7/lib/python3.7/site-packages/sklearn/preprocessing/data.py:645: DataConversionWarning: Data with input dtype int64, float64 were all converted to float64 by StandardScaler.\n",
      "  return self.partial_fit(X, y)\n",
      "/Library/Frameworks/Python.framework/Versions/3.7/lib/python3.7/site-packages/ipykernel_launcher.py:3: DataConversionWarning: Data with input dtype int64, float64 were all converted to float64 by StandardScaler.\n",
      "  This is separate from the ipykernel package so we can avoid doing imports until\n"
     ]
    }
   ],
   "source": [
    "scaler = StandardScaler()\n",
    "scaler.fit(train)\n",
    "train_s = scaler.transform(train)\n",
    "train_s = pd.DataFrame(train_s, index=train.index, columns=train.columns)\n",
    "train_s.sort_values(by = 'population', inplace = True)\n",
    "train_s.index = range(0,len(train_s))\n",
    "train_s1 = train_s[train_s.index > len(train_s)/2]\n",
    "train_s2 = train_s[train_s.index < len(train_s)/2]"
   ]
  },
  {
   "cell_type": "code",
   "execution_count": 5,
   "metadata": {},
   "outputs": [],
   "source": [
    "X1 = train_s1.drop(['net_mig'], axis = 1)\n",
    "y1 = train_s1['net_mig']\n",
    "X2 = train_s2.drop(['net_mig'], axis = 1)\n",
    "y2 = train_s2['net_mig']"
   ]
  },
  {
   "cell_type": "code",
   "execution_count": 6,
   "metadata": {},
   "outputs": [],
   "source": [
    "X_train1, X_test1, y_train1, y_test1 = train_test_split(X1, y1, test_size = .2, random_state = 99)\n",
    "x_tr1, x_val1, y_tr1, y_val1 = train_test_split(X_train1, y_train1, test_size = .2, random_state = 99)\n",
    "X_train2, X_test2, y_train2, y_test2 = train_test_split(X2, y2, test_size = .2, random_state = 99)\n",
    "x_tr2, x_val2, y_tr2, y_val2 = train_test_split(X_train2, y_train2, test_size = .2, random_state = 99)"
   ]
  },
  {
   "cell_type": "code",
   "execution_count": 7,
   "metadata": {},
   "outputs": [
    {
     "name": "stdout",
     "output_type": "stream",
     "text": [
      "RMSE: 1.6882909825452284\n"
     ]
    }
   ],
   "source": [
    "param_dict = {\"tol\": [.0001], \"eta0\": [.01]}\n",
    "lreg = SGDRegressor(tol=.0001, eta0=.01)\n",
    "gs = GridSearchCV(lreg, param_dict, scoring = 'neg_mean_squared_error', cv = 4)\n",
    "gs.fit(x_tr1, y_tr1)\n",
    "\n",
    "predictions = gs.predict(X_test1)\n",
    "mse = mean_squared_error(y_test1, predictions)\n",
    "print(\"RMSE: {}\".format(np.sqrt(mse)))"
   ]
  },
  {
   "cell_type": "code",
   "execution_count": 8,
   "metadata": {},
   "outputs": [
    {
     "name": "stdout",
     "output_type": "stream",
     "text": [
      "RMSE: 0.05369671361138082\n"
     ]
    }
   ],
   "source": [
    "gs.fit(x_tr2, y_tr2)\n",
    "\n",
    "predictions = gs.predict(X_test2)\n",
    "mse = mean_squared_error(y_test2, predictions)\n",
    "print(\"RMSE: {}\".format(np.sqrt(mse)))"
   ]
  },
  {
   "cell_type": "markdown",
   "metadata": {},
   "source": [
    "When split into two parts (splitting at the median level of population), the model for the larger segment of the population is very accurate, but the one for the smaller segment of the population is much much worse. This suggests that the main difficulty of this problem is predicting migration for the smallest counties. This is reinforced by the results from our classification models. Because they did not get good results, it shows that it is very hard to predict which side of 0 migration will be on- this is likely to be hardest for the smallest counties where the amount of migration is close to 0 already."
   ]
  },
  {
   "cell_type": "markdown",
   "metadata": {},
   "source": [
    "Let's try one last thing- we'll run PCA on the data and see if we can get a better result by removing some of the less important variation."
   ]
  },
  {
   "cell_type": "code",
   "execution_count": 9,
   "metadata": {},
   "outputs": [
    {
     "data": {
      "text/plain": [
       "<matplotlib.collections.LineCollection at 0x126d51470>"
      ]
     },
     "execution_count": 9,
     "metadata": {},
     "output_type": "execute_result"
    },
    {
     "data": {
      "image/png": "[encoded data removed]",
      "text/plain": [
       "<Figure size 432x288 with 1 Axes>"
      ]
     },
     "metadata": {
      "needs_background": "light"
     },
     "output_type": "display_data"
    }
   ],
   "source": [
    "pca = PCA(n_components=100)\n",
    "train1_pca = pca.fit_transform(X1)\n",
    "cum_ratio = np.cumsum(pca.explained_variance_ratio_)\n",
    "plt.plot(range(len(cum_ratio)), cum_ratio)\n",
    "plt.vlines(ymin=0,ymax=cum_ratio[16],x=16)"
   ]
  },
  {
   "cell_type": "markdown",
   "metadata": {},
   "source": [
    "Looks like here the elbow is around 16, so we'll use that as our number of components. We want to keep a good deal of variance without having too many dimensions that can bring in spurious correlations that will muddle our regression."
   ]
  },
  {
   "cell_type": "code",
   "execution_count": 10,
   "metadata": {},
   "outputs": [
    {
     "name": "stdout",
     "output_type": "stream",
     "text": [
      "RMSE: 1.2389531872173727\n"
     ]
    }
   ],
   "source": [
    "pca16 = PCA(n_components=16)\n",
    "train1_pca16 = pca16.fit_transform(X1)\n",
    "X_train1, X_test1, y_train1, y_test1 = train_test_split(train1_pca16, y1, test_size = .2, random_state = 99)\n",
    "x_tr1, x_val1, y_tr1, y_val1 = train_test_split(X_train1, y_train1, test_size = .2, random_state = 99)\n",
    "gs.fit(x_tr1, y_tr1)\n",
    "\n",
    "predictions = gs.predict(X_test1)\n",
    "mse = mean_squared_error(y_test1, predictions)\n",
    "print(\"RMSE: {}\".format(np.sqrt(mse)))"
   ]
  },
  {
   "cell_type": "markdown",
   "metadata": {},
   "source": [
    "So the PCA transformation did not help our RMSE improve. Looks like we did not have a bunch of extra unhelpful variables.\n",
    "\n",
    "Let's try again with our second half of the data."
   ]
  },
  {
   "cell_type": "code",
   "execution_count": 11,
   "metadata": {},
   "outputs": [
    {
     "data": {
      "text/plain": [
       "<matplotlib.collections.LineCollection at 0x1101a2e10>"
      ]
     },
     "execution_count": 11,
     "metadata": {},
     "output_type": "execute_result"
    },
    {
     "data": {
      "image/png": "[encoded data removed]",
      "text/plain": [
       "<Figure size 432x288 with 1 Axes>"
      ]
     },
     "metadata": {
      "needs_background": "light"
     },
     "output_type": "display_data"
    }
   ],
   "source": [
    "train2_pca = pca.fit_transform(X2)\n",
    "cum_ratio = np.cumsum(pca.explained_variance_ratio_)\n",
    "plt.plot(range(len(cum_ratio)), cum_ratio)\n",
    "plt.vlines(ymin=0,ymax=cum_ratio[20],x=20)"
   ]
  },
  {
   "cell_type": "markdown",
   "metadata": {},
   "source": [
    "The elbow here is around 20, so we'll use 20 principle components."
   ]
  },
  {
   "cell_type": "code",
   "execution_count": 12,
   "metadata": {},
   "outputs": [
    {
     "name": "stdout",
     "output_type": "stream",
     "text": [
      "RMSE: 0.05563350263763376\n"
     ]
    }
   ],
   "source": [
    "pca20 = PCA(n_components=20)\n",
    "train2_pca20 = pca20.fit_transform(X2)\n",
    "\n",
    "X_train2, X_test2, y_train2, y_test2 = train_test_split(train2_pca20, y2, test_size = .2, random_state = 99)\n",
    "x_tr2, x_val2, y_tr2, y_val2 = train_test_split(X_train2, y_train2, test_size = .2, random_state = 99)\n",
    "gs.fit(x_tr2, y_tr2)\n",
    "\n",
    "predictions = gs.predict(X_test2)\n",
    "mse = mean_squared_error(y_test2, predictions)\n",
    "print(\"RMSE: {}\".format(np.sqrt(mse)))"
   ]
  },
  {
   "cell_type": "markdown",
   "metadata": {},
   "source": [
    "This also was not helpful in improving the RMSE of our model."
   ]
  }
 ],
 "metadata": {
  "kernelspec": {
   "display_name": "Python 3",
   "language": "python",
   "name": "python3"
  },
  "language_info": {
   "codemirror_mode": {
    "name": "ipython",
    "version": 3
   },
   "file_extension": ".py",
   "mimetype": "text/x-python",
   "name": "python",
   "nbconvert_exporter": "python",
   "pygments_lexer": "ipython3",
   "version": "3.7.1"
  }
 },
 "nbformat": 4,
 "nbformat_minor": 2
}
